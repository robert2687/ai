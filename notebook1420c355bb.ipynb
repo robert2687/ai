{
 "cells": [
  {
   "cell_type": "code",
   "execution_count": 1,
   "id": "61c76c18",
   "metadata": {
    "_cell_guid": "b1076dfc-b9ad-4769-8c92-a6c4dae69d19",
    "_uuid": "8f2839f25d086af736a60e9eeb907d3b93b6e0e5",
    "execution": {
     "iopub.execute_input": "2025-07-12T22:30:21.300371Z",
     "iopub.status.busy": "2025-07-12T22:30:21.299976Z",
     "iopub.status.idle": "2025-07-12T22:30:23.155785Z",
     "shell.execute_reply": "2025-07-12T22:30:23.154761Z"
    },
    "papermill": {
     "duration": 1.860225,
     "end_time": "2025-07-12T22:30:23.157264",
     "exception": false,
     "start_time": "2025-07-12T22:30:21.297039",
     "status": "completed"
    },
    "tags": []
   },
   "outputs": [
    {
     "name": "stdout",
     "output_type": "stream",
     "text": [
      "/kaggle/input/paligemma/keras/pali_gemma_3b_224/4/image_converter.json\n",
      "/kaggle/input/paligemma/keras/pali_gemma_3b_224/4/config.json\n",
      "/kaggle/input/paligemma/keras/pali_gemma_3b_224/4/preprocessor.json\n",
      "/kaggle/input/paligemma/keras/pali_gemma_3b_224/4/tokenizer.json\n",
      "/kaggle/input/paligemma/keras/pali_gemma_3b_224/4/metadata.json\n",
      "/kaggle/input/paligemma/keras/pali_gemma_3b_224/4/model.weights.h5\n",
      "/kaggle/input/paligemma/keras/pali_gemma_3b_224/4/task.json\n",
      "/kaggle/input/paligemma/keras/pali_gemma_3b_224/4/assets/tokenizer/vocabulary.spm\n"
     ]
    }
   ],
   "source": [
    "# This Python 3 environment comes with many helpful analytics libraries installed\n",
    "# It is defined by the kaggle/python Docker image: https://github.com/kaggle/docker-python\n",
    "# For example, here's several helpful packages to load\n",
    "\n",
    "import numpy as np # linear algebra\n",
    "import pandas as pd # data processing, CSV file I/O (e.g. pd.read_csv)\n",
    "\n",
    "# Input data files are available in the read-only \"../input/\" directory\n",
    "# For example, running this (by clicking run or pressing Shift+Enter) will list all files under the input directory\n",
    "\n",
    "import os\n",
    "for dirname, _, filenames in os.walk('/kaggle/input'):\n",
    "    for filename in filenames:\n",
    "        print(os.path.join(dirname, filename))\n",
    "\n",
    "# You can write up to 20GB to the current directory (/kaggle/working/) that gets preserved as output when you create a version using \"Save & Run All\" \n",
    "# You can also write temporary files to /kaggle/temp/, but they won't be saved outside of the current session"
   ]
  }
 ],
 "metadata": {
  "kaggle": {
   "accelerator": "none",
   "dataSources": [
    {
     "isSourceIdPinned": true,
     "modelId": 52393,
     "modelInstanceId": 44356,
     "sourceId": 206124,
     "sourceType": "modelInstanceVersion"
    }
   ],
   "dockerImageVersionId": 31089,
   "isGpuEnabled": false,
   "isInternetEnabled": false,
   "language": "python",
   "sourceType": "notebook"
  },
  "kernelspec": {
   "display_name": "Python 3",
   "language": "python",
   "name": "python3"
  },
  "language_info": {
   "codemirror_mode": {
    "name": "ipython",
    "version": 3
   },
   "file_extension": ".py",
   "mimetype": "text/x-python",
   "name": "python",
   "nbconvert_exporter": "python",
   "pygments_lexer": "ipython3",
   "version": "3.11.13"
  },
  "papermill": {
   "default_parameters": {},
   "duration": 7.210321,
   "end_time": "2025-07-12T22:30:23.679116",
   "environment_variables": {},
   "exception": null,
   "input_path": "__notebook__.ipynb",
   "output_path": "__notebook__.ipynb",
   "parameters": {},
   "start_time": "2025-07-12T22:30:16.468795",
   "version": "2.6.0"
  }
 },
 "nbformat": 4,
 "nbformat_minor": 5
}
